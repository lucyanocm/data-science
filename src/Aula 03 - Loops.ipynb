{
 "cells": [
  {
   "cell_type": "markdown",
   "metadata": {},
   "source": [
    "# Loops ou Estrutura de Repetição"
   ]
  },
  {
   "cell_type": "code",
   "execution_count": 5,
   "metadata": {},
   "outputs": [],
   "source": [
    "# Repetição com while (enquanto condição for verdadeira)\n",
    "# só entra na estrutura se a condição for verdadeira\n",
    "# a condição do laço de repatição precisa ser modificada em algum momento da repetição\n",
    "\n",
    "cont = 11\n",
    "\n",
    "while cont <= 10:\n",
    "    print('Número: ' + str(cont))\n",
    "    cont = cont + 1  \n",
    "    \n",
    "    \n",
    "    "
   ]
  },
  {
   "cell_type": "code",
   "execution_count": null,
   "metadata": {},
   "outputs": [],
   "source": [
    "cont = 1\n",
    "\n",
    "while cont <= 10:\n",
    "    print(cont)\n",
    "    cont = cont + 1   "
   ]
  },
  {
   "cell_type": "code",
   "execution_count": 12,
   "metadata": {},
   "outputs": [
    {
     "name": "stdout",
     "output_type": "stream",
     "text": [
      "0\n",
      "1\n",
      "2\n",
      "3\n",
      "4\n",
      "Acabou loop\n"
     ]
    }
   ],
   "source": [
    "#Else 'se não' na estrutura while\n",
    "\n",
    "ctd = 0\n",
    "\n",
    "while ctd < 5:\n",
    "    print(ctd)\n",
    "    ctd += 1 #\n",
    "else:\n",
    "    print('Acabou loop')\n",
    "    \n",
    "# Quando a condição de repetição não for mais atendida, então será executado o que estiver no ELSE.\n",
    "# cláusula ELSE não é obrigatória."
   ]
  },
  {
   "cell_type": "markdown",
   "metadata": {},
   "source": [
    "# Loop 'for'"
   ]
  },
  {
   "cell_type": "code",
   "execution_count": 9,
   "metadata": {},
   "outputs": [],
   "source": [
    "lista = ['João', 'José', 'Maria', 'Dorotildes', 'Eleutério']"
   ]
  },
  {
   "cell_type": "code",
   "execution_count": 13,
   "metadata": {},
   "outputs": [
    {
     "name": "stdout",
     "output_type": "stream",
     "text": [
      "João\n",
      "José\n",
      "Maria\n",
      "Dorotildes\n",
      "Eleutério\n"
     ]
    }
   ],
   "source": [
    "# Diferente do while o for vai entrar na estrutura pelo menos uma vez.\n",
    "# Mais indicado inclusive para percorrer LISTAS.\n",
    "\n",
    "for aluno in lista:\n",
    "    print(aluno)"
   ]
  },
  {
   "cell_type": "code",
   "execution_count": 15,
   "metadata": {
    "scrolled": true
   },
   "outputs": [
    {
     "name": "stdout",
     "output_type": "stream",
     "text": [
      "A\n",
      "n\n",
      "á\n",
      "l\n",
      "i\n",
      "s\n",
      "e\n"
     ]
    }
   ],
   "source": [
    "# Percorrer strings\n",
    "texto = 'Análise'\n",
    "\n",
    "for let in texto:\n",
    "    print(let)"
   ]
  },
  {
   "cell_type": "markdown",
   "metadata": {},
   "source": [
    "# Loop com Range"
   ]
  },
  {
   "cell_type": "code",
   "execution_count": 19,
   "metadata": {},
   "outputs": [
    {
     "name": "stdout",
     "output_type": "stream",
     "text": [
      "1\n",
      "2\n",
      "3\n",
      "4\n"
     ]
    }
   ],
   "source": [
    "# Range cria uma faixa de intervalos\n",
    "for n in range(1, 5):\n",
    "    print(n)"
   ]
  },
  {
   "cell_type": "code",
   "execution_count": 23,
   "metadata": {},
   "outputs": [
    {
     "name": "stdout",
     "output_type": "stream",
     "text": [
      "2\n",
      "5\n",
      "8\n"
     ]
    }
   ],
   "source": [
    "# Pode ser passado o parâmetro PASSO\n",
    "for n in range(2, 11, 3):\n",
    "    print(n)"
   ]
  },
  {
   "cell_type": "code",
   "execution_count": null,
   "metadata": {},
   "outputs": [],
   "source": []
  }
 ],
 "metadata": {
  "kernelspec": {
   "display_name": "Python 3",
   "language": "python",
   "name": "python3"
  },
  "language_info": {
   "codemirror_mode": {
    "name": "ipython",
    "version": 3
   },
   "file_extension": ".py",
   "mimetype": "text/x-python",
   "name": "python",
   "nbconvert_exporter": "python",
   "pygments_lexer": "ipython3",
   "version": "3.8.5"
  }
 },
 "nbformat": 4,
 "nbformat_minor": 4
}
