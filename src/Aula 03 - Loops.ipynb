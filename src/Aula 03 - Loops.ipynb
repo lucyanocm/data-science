{
 "cells": [
  {
   "cell_type": "markdown",
   "metadata": {},
   "source": [
    "# Loops ou Estrutura de Repetição"
   ]
  },
  {
   "cell_type": "code",
   "execution_count": 3,
   "metadata": {},
   "outputs": [
    {
     "name": "stdout",
     "output_type": "stream",
     "text": [
      "0\n",
      "1\n",
      "2\n",
      "3\n",
      "4\n",
      "5\n",
      "6\n",
      "7\n",
      "8\n",
      "9\n"
     ]
    }
   ],
   "source": [
    "# Repetição com while (enquanto condição for verdadeira)\n",
    "# só entra na estrutura se a condição for verdadeira\n",
    "# a condição do laço de repatiç]ao precisa ser modificada em algum momento da repetição\n",
    "\n",
    "cont = 0\n",
    "\n",
    "while cont < 10:\n",
    "    print(cont)\n",
    "    cont = cont + 1    "
   ]
  },
  {
   "cell_type": "code",
   "execution_count": 4,
   "metadata": {},
   "outputs": [
    {
     "name": "stdout",
     "output_type": "stream",
     "text": [
      "1\n",
      "2\n",
      "3\n",
      "4\n",
      "5\n",
      "6\n",
      "7\n",
      "8\n",
      "9\n",
      "10\n"
     ]
    }
   ],
   "source": [
    "cont = 1\n",
    "\n",
    "while cont <= 10:\n",
    "    print(cont)\n",
    "    cont = cont + 1   "
   ]
  },
  {
   "cell_type": "code",
   "execution_count": 7,
   "metadata": {},
   "outputs": [
    {
     "name": "stdout",
     "output_type": "stream",
     "text": [
      "0\n",
      "1\n",
      "2\n",
      "3\n",
      "4\n",
      "Acabou loop\n"
     ]
    }
   ],
   "source": [
    "#Else 'se não' na estrutura while\n",
    "\n",
    "ctd = 0\n",
    "\n",
    "while ctd < 5:\n",
    "    print(ctd)\n",
    "    ctd += 1\n",
    "else:\n",
    "    print('Acabou loop')\n",
    "\n",
    "# Quando a condição de repetição não for mais atendida, então será executado o que estiver no ELSE.\n",
    "# cláusula ELSE não é obrigatória."
   ]
  },
  {
   "cell_type": "markdown",
   "metadata": {},
   "source": [
    "# Loop 'for'"
   ]
  },
  {
   "cell_type": "code",
   "execution_count": 8,
   "metadata": {},
   "outputs": [],
   "source": [
    "lista = ['João', 'José', 'Maria', 'Dorotildes', 'Eleutério']"
   ]
  },
  {
   "cell_type": "code",
   "execution_count": 10,
   "metadata": {},
   "outputs": [
    {
     "name": "stdout",
     "output_type": "stream",
     "text": [
      "João\n",
      "José\n",
      "Maria\n",
      "Dorotildes\n",
      "Eleutério\n"
     ]
    }
   ],
   "source": [
    "# Diferente do while o for vai entrar na estrutura pelo menos uma vez.\n",
    "# Mais indicado inclusive para percorrer LISTAS.\n",
    "\n",
    "for aluno in lista:\n",
    "    print(aluno)"
   ]
  },
  {
   "cell_type": "code",
   "execution_count": null,
   "metadata": {
    "scrolled": true
   },
   "outputs": [],
   "source": [
    "# Percorrer strings\n",
    "texto = 'Análise e Desenvolvimento de Sistemas'\n",
    "\n",
    "for let in texto:\n",
    "    print(let)"
   ]
  },
  {
   "cell_type": "markdown",
   "metadata": {},
   "source": [
    "# Loop com Range"
   ]
  },
  {
   "cell_type": "code",
   "execution_count": 13,
   "metadata": {},
   "outputs": [
    {
     "name": "stdout",
     "output_type": "stream",
     "text": [
      "1\n",
      "2\n",
      "3\n",
      "4\n",
      "5\n",
      "6\n",
      "7\n",
      "8\n",
      "9\n"
     ]
    }
   ],
   "source": [
    "# Range cria uma faixa de intervalos\n",
    "for n in range(1, 10):\n",
    "    print(n)"
   ]
  },
  {
   "cell_type": "code",
   "execution_count": 14,
   "metadata": {},
   "outputs": [
    {
     "name": "stdout",
     "output_type": "stream",
     "text": [
      "1\n",
      "3\n",
      "5\n",
      "7\n",
      "9\n"
     ]
    }
   ],
   "source": [
    "# Pode ser passado o parâmetro PASSO\n",
    "for n in range(1, 10, 2):\n",
    "    print(n)"
   ]
  }
 ],
 "metadata": {
  "kernelspec": {
   "display_name": "Python 3",
   "language": "python",
   "name": "python3"
  },
  "language_info": {
   "codemirror_mode": {
    "name": "ipython",
    "version": 3
   },
   "file_extension": ".py",
   "mimetype": "text/x-python",
   "name": "python",
   "nbconvert_exporter": "python",
   "pygments_lexer": "ipython3",
   "version": "3.8.5"
  }
 },
 "nbformat": 4,
 "nbformat_minor": 4
}
