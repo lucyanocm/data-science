{
 "cells": [
  {
   "cell_type": "markdown",
   "metadata": {},
   "source": [
    "## Funções Embutidas"
   ]
  },
  {
   "cell_type": "code",
   "execution_count": null,
   "metadata": {},
   "outputs": [],
   "source": [
    "# print é um exemplo de função embutida no python"
   ]
  },
  {
   "cell_type": "code",
   "execution_count": 39,
   "metadata": {},
   "outputs": [
    {
     "name": "stdout",
     "output_type": "stream",
     "text": [
      "Texto na frase\n",
      "Texto na frase\n"
     ]
    }
   ],
   "source": [
    "print('Texto na frase')\n",
    "print(\"Texto na frase\")"
   ]
  },
  {
   "cell_type": "code",
   "execution_count": 2,
   "metadata": {},
   "outputs": [],
   "source": [
    "frase = 'Análise e Desenvolvimento de Sistemas (ADS)'"
   ]
  },
  {
   "cell_type": "code",
   "execution_count": 40,
   "metadata": {
    "scrolled": true
   },
   "outputs": [
    {
     "data": {
      "text/plain": [
       "'Análise e Desenvolvimento de Sistemas (ADS)'"
      ]
     },
     "execution_count": 40,
     "metadata": {},
     "output_type": "execute_result"
    }
   ],
   "source": [
    "#variável frase é uma string, mas também um vetor dos caracteres digitados\n",
    "frase"
   ]
  },
  {
   "cell_type": "code",
   "execution_count": 41,
   "metadata": {},
   "outputs": [
    {
     "name": "stdout",
     "output_type": "stream",
     "text": [
      "Análise e Desenvolvimento de Sistemas (ADS)\n"
     ]
    }
   ],
   "source": [
    "print(frase)"
   ]
  },
  {
   "cell_type": "code",
   "execution_count": 4,
   "metadata": {},
   "outputs": [
    {
     "data": {
      "text/plain": [
       "43"
      ]
     },
     "execution_count": 4,
     "metadata": {},
     "output_type": "execute_result"
    }
   ],
   "source": [
    "#Tamanho do vetor/string\n",
    "len(frase)"
   ]
  },
  {
   "cell_type": "code",
   "execution_count": 43,
   "metadata": {},
   "outputs": [
    {
     "data": {
      "text/plain": [
       "49"
      ]
     },
     "execution_count": 43,
     "metadata": {},
     "output_type": "execute_result"
    }
   ],
   "source": [
    "len('aaaaaaaaaaaaaaaaaaaaaaaaaaaaaaaaaaaaaaaaaaaaaaaaa')"
   ]
  },
  {
   "cell_type": "code",
   "execution_count": null,
   "metadata": {},
   "outputs": [],
   "source": [
    "#Posição :  0 1 2 3 4 5 6 7 8 9 ...\n",
    "#Vetor   : |A|n|á|l|i|s|e| |e| |D|e|s|e|n|v|o|l|v|i|m|e|n|t|o|d|e| |S|i|s|t|e|m|a|s| |(|A|D|S|)|"
   ]
  },
  {
   "cell_type": "code",
   "execution_count": 44,
   "metadata": {},
   "outputs": [
    {
     "name": "stdout",
     "output_type": "stream",
     "text": [
      "A\n"
     ]
    }
   ],
   "source": [
    "#Indexes do vetor podem ser acessados pela posição\n",
    "print(frase[0])"
   ]
  },
  {
   "cell_type": "code",
   "execution_count": 45,
   "metadata": {},
   "outputs": [
    {
     "name": "stdout",
     "output_type": "stream",
     "text": [
      "n\n"
     ]
    }
   ],
   "source": [
    "print(frase[1])"
   ]
  },
  {
   "cell_type": "code",
   "execution_count": 46,
   "metadata": {},
   "outputs": [
    {
     "name": "stdout",
     "output_type": "stream",
     "text": [
      "á\n"
     ]
    }
   ],
   "source": [
    "print(frase[2])"
   ]
  },
  {
   "cell_type": "code",
   "execution_count": 47,
   "metadata": {},
   "outputs": [
    {
     "name": "stdout",
     "output_type": "stream",
     "text": [
      " \n"
     ]
    }
   ],
   "source": [
    "print(frase[7])"
   ]
  },
  {
   "cell_type": "code",
   "execution_count": 48,
   "metadata": {},
   "outputs": [
    {
     "data": {
      "text/plain": [
       "43"
      ]
     },
     "execution_count": 48,
     "metadata": {},
     "output_type": "execute_result"
    }
   ],
   "source": [
    "len(frase)"
   ]
  },
  {
   "cell_type": "code",
   "execution_count": 50,
   "metadata": {},
   "outputs": [
    {
     "name": "stdout",
     "output_type": "stream",
     "text": [
      ")\n"
     ]
    }
   ],
   "source": [
    "print(frase[42])"
   ]
  },
  {
   "cell_type": "code",
   "execution_count": 65,
   "metadata": {},
   "outputs": [
    {
     "name": "stdout",
     "output_type": "stream",
     "text": [
      "Array completo: Análise e Desenvolvimento de Sistemas (ADS)\n",
      "11º elemento do array: D\n",
      "Do primeiro até o décimo primeiro elemento: se e Desenvolvi\n",
      "Quantidade de elementos de uma parte do array: 15\n"
     ]
    }
   ],
   "source": [
    "#Range de acesso\n",
    "#     Faixa de indexes\n",
    "#da posição 0 até o 10\n",
    "\n",
    "#Posição :  0 1 2 3 4 5 6 7 8 9 10...\n",
    "#Vetor   : |A|n|á|l|i|s|e| |e| |D|e|s|e|n|v|o|l|v|i|m|e|n|t|o|d|e| |S|i|s|t|e|m|a|s| |(|A|D|S|)|\n",
    "\n",
    "print('Array completo: ' + frase)\n",
    "print('11º elemento do array: ' + frase[10])\n",
    "print('Do primeiro até o décimo primeiro elemento: ' + frase[5:20])\n",
    "print('Quantidade de elementos de uma parte do array: ' + str(len(frase[5:20])))"
   ]
  },
  {
   "cell_type": "code",
   "execution_count": 77,
   "metadata": {},
   "outputs": [
    {
     "name": "stdout",
     "output_type": "stream",
     "text": [
      "Análise e Desenvolvimento de S\n",
      "30\n",
      "43\n"
     ]
    }
   ],
   "source": [
    "# Omitindo o primeiro valor do indexe a \n",
    "# função pega automaticamente a posição 0\n",
    "print(frase[:30])\n",
    "print(len(frase[:30]))\n",
    "\n",
    "print(len(frase))"
   ]
  },
  {
   "cell_type": "code",
   "execution_count": 84,
   "metadata": {
    "scrolled": true
   },
   "outputs": [
    {
     "name": "stdout",
     "output_type": "stream",
     "text": [
      "(ADS)\n"
     ]
    }
   ],
   "source": [
    "#Omitindo o segundo valor do indexe a \n",
    "# função pega automaticamente a ultima posião do vetor\n",
    "print(frase[38:])"
   ]
  },
  {
   "cell_type": "code",
   "execution_count": 88,
   "metadata": {},
   "outputs": [
    {
     "name": "stdout",
     "output_type": "stream",
     "text": [
      "AsDvm iaD\n"
     ]
    }
   ],
   "source": [
    "#O terceiro parâmetro é o PASSO\n",
    "#nesse caso vai pular conforme o valor passado.\n",
    "#Vetor   : |A|n|á|l|i|s|e| |e| |D|e|s|e|n|v|o|l|v|i|m|e|n|t|o|d|e| |S|i|s|t|e|m|a|s| |(|A|D|S|)|\n",
    "print(frase[::5])"
   ]
  },
  {
   "cell_type": "code",
   "execution_count": 92,
   "metadata": {},
   "outputs": [
    {
     "name": "stdout",
     "output_type": "stream",
     "text": [
      "Análise e Desenvolvimento de Sistemas (ADS)\n",
      ")SDA( sametsiS ed otnemivlovneseD e esilánA\n"
     ]
    }
   ],
   "source": [
    "#O parâmetro passo pode ser usado para inverter o vetor\n",
    "print(frase[::1])\n",
    "print(frase[::-1])"
   ]
  },
  {
   "cell_type": "code",
   "execution_count": 93,
   "metadata": {
    "scrolled": true
   },
   "outputs": [
    {
     "ename": "TypeError",
     "evalue": "string indices must be integers",
     "output_type": "error",
     "traceback": [
      "\u001b[1;31m---------------------------------------------------------------------------\u001b[0m",
      "\u001b[1;31mTypeError\u001b[0m                                 Traceback (most recent call last)",
      "\u001b[1;32m<ipython-input-93-cad95bfe4e2a>\u001b[0m in \u001b[0;36m<module>\u001b[1;34m\u001b[0m\n\u001b[0;32m      3\u001b[0m \u001b[0mpasso\u001b[0m \u001b[1;33m=\u001b[0m \u001b[1;36m1\u001b[0m\u001b[1;33m\u001b[0m\u001b[1;33m\u001b[0m\u001b[0m\n\u001b[0;32m      4\u001b[0m \u001b[1;33m\u001b[0m\u001b[0m\n\u001b[1;32m----> 5\u001b[1;33m \u001b[0mfrase\u001b[0m\u001b[1;33m[\u001b[0m\u001b[0minicio\u001b[0m\u001b[1;33m,\u001b[0m \u001b[0mfim\u001b[0m\u001b[1;33m,\u001b[0m \u001b[0mpasso\u001b[0m\u001b[1;33m]\u001b[0m\u001b[1;33m\u001b[0m\u001b[1;33m\u001b[0m\u001b[0m\n\u001b[0m",
      "\u001b[1;31mTypeError\u001b[0m: string indices must be integers"
     ]
    }
   ],
   "source": [
    "inicio = 3\n",
    "fim = 40\n",
    "passo = 1\n",
    "\n",
    "frase[inicio, fim, passo]"
   ]
  },
  {
   "cell_type": "code",
   "execution_count": 94,
   "metadata": {},
   "outputs": [
    {
     "name": "stdout",
     "output_type": "stream",
     "text": [
      "Análise e Desenvolvimento de Sistemas (ADS)\n",
      "Análise e Desenvolvimento de Sistemas (ADS)\n",
      "Análise e Desenvolvimento de Sistemas (ADS)\n"
     ]
    }
   ],
   "source": [
    "#As 3 sintaxes são a mesma coisa.\n",
    "\n",
    "print(frase)\n",
    "print(frase[:])\n",
    "print(frase[::1])"
   ]
  },
  {
   "cell_type": "code",
   "execution_count": 106,
   "metadata": {},
   "outputs": [
    {
     "name": "stdout",
     "output_type": "stream",
     "text": [
      "-1\n",
      "39\n"
     ]
    }
   ],
   "source": [
    "#Find - Localiza a primeira ocorrencia de uma string dentro da expressão NÃO INCLUSA A ÚLTIMA POSIÇÃO\n",
    "print(frase.find('ads'))\n",
    "print(frase.find('ADS'))"
   ]
  },
  {
   "cell_type": "code",
   "execution_count": 29,
   "metadata": {},
   "outputs": [
    {
     "data": {
      "text/plain": [
       "'ANÁLISE E DESENVOLVIMENTO DE SISTEMAS (ADS)'"
      ]
     },
     "execution_count": 29,
     "metadata": {},
     "output_type": "execute_result"
    }
   ],
   "source": [
    "#Função Upper deixa toda string e maiúsculo \n",
    "frase.upper()"
   ]
  },
  {
   "cell_type": "code",
   "execution_count": 30,
   "metadata": {},
   "outputs": [
    {
     "data": {
      "text/plain": [
       "'análise e desenvolvimento de sistemas (ads)'"
      ]
     },
     "execution_count": 30,
     "metadata": {},
     "output_type": "execute_result"
    }
   ],
   "source": [
    "#Função Lower deixa toda string e minúsculo  \n",
    "frase.lower()"
   ]
  },
  {
   "cell_type": "code",
   "execution_count": 114,
   "metadata": {},
   "outputs": [
    {
     "name": "stdout",
     "output_type": "stream",
     "text": [
      "ANÁLISE e desenvolvimento de sistemas (ads)\n"
     ]
    }
   ],
   "source": [
    "#imprimir os 7 primeiros elementos maiúsculo e os demais minúsculos.\n",
    "print(frase[:7].upper() + frase[7:].lower())"
   ]
  },
  {
   "cell_type": "code",
   "execution_count": 125,
   "metadata": {},
   "outputs": [
    {
     "name": "stdout",
     "output_type": "stream",
     "text": [
      "['Análise', 'e', 'Desenvolvimento', 'de', 'Sistemas', '(ADS)']\n",
      "Análise\n",
      "e\n",
      "de\n"
     ]
    }
   ],
   "source": [
    "#Split separa a string em vetores informando o separador\n",
    "#caso não seja informado o separador padrão é o espaço\n",
    "\n",
    "#Análise e Desenvolvimento de Sistemas (ADS)\n",
    "#frase.split(' ')\n",
    "\n",
    "frase2 = 'Análise|e|Desenvolvimento|de|Sistemas|(ADS)'\n",
    "vetor = frase2.split('|')\n",
    "print(vetor)\n",
    "print(vetor[0])\n",
    "print(vetor[1])\n",
    "print(vetor[3])\n"
   ]
  },
  {
   "cell_type": "code",
   "execution_count": 126,
   "metadata": {},
   "outputs": [
    {
     "data": {
      "text/plain": [
       "True"
      ]
     },
     "execution_count": 126,
     "metadata": {},
     "output_type": "execute_result"
    }
   ],
   "source": [
    "#Função Ends With (termina com) verifica se uma \n",
    "#string termina com o valor passado para verificação\n",
    "\n",
    "frase.endswith(')')"
   ]
  },
  {
   "cell_type": "code",
   "execution_count": 36,
   "metadata": {},
   "outputs": [
    {
     "data": {
      "text/plain": [
       "False"
      ]
     },
     "execution_count": 36,
     "metadata": {},
     "output_type": "execute_result"
    }
   ],
   "source": [
    "frase.endswith(';')"
   ]
  },
  {
   "cell_type": "markdown",
   "metadata": {},
   "source": [
    "# Exercício \n",
    "\n",
    "Texto: \"Sobre o curso\n",
    "O curso tecnológico em Análise e Desenvolvimento de Sistemas (ADS) está em consonância com o projeto de futuro proposto pela FACIT. Encontra-se ancorado nos quatro pilares da Educação para o Século XXI recomendado pela UNESCO: Aprender a Conhecer; Aprender a Fazer; Aprender a Conviver e Aprender a Ser.\n",
    "\n",
    "Nestes quatro pilares, a instituição prepara o profissional para os desafios de um mercado cada vez mais promissor. O aluno vai contar com uma estrutura de ponta, materiais didáticos, um laboratório que possibilita o aprendizado constante e leva o futuro profissional a ter um contato com a prática logo no início de sua vida acadêmica.\n",
    "\n",
    "Missão\n",
    "A missão do curso é qualificar e especializar os acadêmicos para serem profissionais críticos, reflexivos, criativos, competentes, responsáveis e capazes de atuar na transformação da sociedade acompanhando a velocidade da ciência e tecnologia. Primando pelos princípios éticos e morais e buscando sempre novos conhecimentos apoiados na pesquisa e na extensão.\n",
    "\n",
    "\n",
    "Objetivo\n",
    "Formar profissionais com domínio do uso da informática e da computação, capacitando os estudantes, por meio de um itinerário formativo interdisciplinar e prático, a atuarem na área de TI (Tecnologia da Informação), desenvolvendo as atividades de análise, projeto, desenvolvimento, gerenciamento e implantação de sistemas de informação computacionais direcionados para o mercado de trabalho corporativo.\"\n",
    "\n",
    "Disponível em: https://vestibular.faculdadefacit.edu.br/analiseemdesenvolvimentodesistemas"
   ]
  },
  {
   "cell_type": "markdown",
   "metadata": {},
   "source": [
    "1. Descobrir o quantos caracteres tem nesse texto.\n",
    "2. Qual a posição da palavra 'ciência'.\n",
    "3. Inverter todo o texto (imprimir invertido).\n",
    "4. Transformar o texto em um vetor e contas quantas palavras ele tem."
   ]
  },
  {
   "cell_type": "code",
   "execution_count": 37,
   "metadata": {},
   "outputs": [],
   "source": [
    "texto = '''Sobre o curso O curso tecnológico em Análise e Desenvolvimento de Sistemas (ADS) está em consonância com o projeto de futuro proposto pela FACIT. Encontra-se ancorado nos quatro pilares da Educação para o Século XXI recomendado pela UNESCO: Aprender a Conhecer; Aprender a Fazer; Aprender a Conviver e Aprender a Ser.\n",
    "\n",
    "Nestes quatro pilares, a instituição prepara o profissional para os desafios de um mercado cada vez mais promissor. O aluno vai contar com uma estrutura de ponta, materiais didáticos, um laboratório que possibilita o aprendizado constante e leva o futuro profissional a ter um contato com a prática logo no início de sua vida acadêmica.\n",
    "\n",
    "Missão A missão do curso é qualificar e especializar os acadêmicos para serem profissionais críticos, reflexivos, criativos, competentes, responsáveis e capazes de atuar na transformação da sociedade acompanhando a velocidade da ciência e tecnologia. Primando pelos princípios éticos e morais e buscando sempre novos conhecimentos apoiados na pesquisa e na extensão.\n",
    "\n",
    "Objetivo Formar profissionais com domínio do uso da informática e da computação, capacitando os estudantes, por meio de um itinerário formativo interdisciplinar e prático, a atuarem na área de TI (Tecnologia da Informação), desenvolvendo as atividades de análise, projeto, desenvolvimento, gerenciamento e implantação de sistemas de informação computacionais direcionados para o mercado de trabalho corporativo.'''"
   ]
  },
  {
   "cell_type": "code",
   "execution_count": 127,
   "metadata": {},
   "outputs": [
    {
     "name": "stdout",
     "output_type": "stream",
     "text": [
      "Sobre o curso O curso tecnológico em Análise e Desenvolvimento de Sistemas (ADS) está em consonância com o projeto de futuro proposto pela FACIT. Encontra-se ancorado nos quatro pilares da Educação para o Século XXI recomendado pela UNESCO: Aprender a Conhecer; Aprender a Fazer; Aprender a Conviver e Aprender a Ser.\n",
      "\n",
      "Nestes quatro pilares, a instituição prepara o profissional para os desafios de um mercado cada vez mais promissor. O aluno vai contar com uma estrutura de ponta, materiais didáticos, um laboratório que possibilita o aprendizado constante e leva o futuro profissional a ter um contato com a prática logo no início de sua vida acadêmica.\n",
      "\n",
      "Missão A missão do curso é qualificar e especializar os acadêmicos para serem profissionais críticos, reflexivos, criativos, competentes, responsáveis e capazes de atuar na transformação da sociedade acompanhando a velocidade da ciência e tecnologia. Primando pelos princípios éticos e morais e buscando sempre novos conhecimentos apoiados na pesquisa e na extensão.\n",
      "\n",
      "Objetivo Formar profissionais com domínio do uso da informática e da computação, capacitando os estudantes, por meio de um itinerário formativo interdisciplinar e prático, a atuarem na área de TI (Tecnologia da Informação), desenvolvendo as atividades de análise, projeto, desenvolvimento, gerenciamento e implantação de sistemas de informação computacionais direcionados para o mercado de trabalho corporativo.\n"
     ]
    }
   ],
   "source": [
    "print(texto)"
   ]
  },
  {
   "cell_type": "code",
   "execution_count": 128,
   "metadata": {},
   "outputs": [
    {
     "data": {
      "text/plain": [
       "1436"
      ]
     },
     "execution_count": 128,
     "metadata": {},
     "output_type": "execute_result"
    }
   ],
   "source": [
    "len(texto)"
   ]
  },
  {
   "cell_type": "code",
   "execution_count": 129,
   "metadata": {},
   "outputs": [
    {
     "data": {
      "text/plain": [
       "886"
      ]
     },
     "execution_count": 129,
     "metadata": {},
     "output_type": "execute_result"
    }
   ],
   "source": [
    "texto.find('ciência')"
   ]
  },
  {
   "cell_type": "code",
   "execution_count": 130,
   "metadata": {},
   "outputs": [
    {
     "name": "stdout",
     "output_type": "stream",
     "text": [
      ".ovitaroproc ohlabart ed odacrem o arap sodanoicerid sianoicatupmoc oãçamrofni ed sametsis ed oãçatnalpmi e otnemaicnereg ,otnemivlovnesed ,otejorp ,esilána ed sedadivita sa odnevlovnesed ,)oãçamrofnI ad aigolonceT( IT ed aerá an merauta a ,ocitárp e ranilpicsidretni ovitamrof oiráreniti mu ed oiem rop ,setnadutse so odnaticapac ,oãçatupmoc ad e acitámrofni ad osu od oinímod moc sianoissiforp ramroF ovitejbO\n",
      "\n",
      ".oãsnetxe an e asiuqsep an sodaiopa sotnemicehnoc sovon erpmes odnacsub e siarom e socité soipícnirp solep odnamirP .aigoloncet e aicnêic ad edadicolev a odnahnapmoca edadeicos ad oãçamrofsnart an rauta ed sezapac e sievásnopser ,setnetepmoc ,sovitairc ,sovixelfer ,socitírc sianoissiforp meres arap socimêdaca so razilaicepse e racifilauq é osruc od oãssim A oãssiM\n",
      "\n",
      ".acimêdaca adiv aus ed oicíni on ogol acitárp a moc otatnoc mu ret a lanoissiforp orutuf o avel e etnatsnoc odazidnerpa o atilibissop euq oirótarobal mu ,socitádid siairetam ,atnop ed aruturtse amu moc ratnoc iav onula O .rossimorp siam zev adac odacrem mu ed soifased so arap lanoissiforp o araperp oãçiutitsni a ,seralip ortauq setseN\n",
      "\n",
      ".reS a rednerpA e revivnoC a rednerpA ;rezaF a rednerpA ;recehnoC a rednerpA :OCSENU alep odadnemocer IXX olucéS o arap oãçacudE ad seralip ortauq son odarocna es-artnocnE .TICAF alep otsoporp orutuf ed otejorp o moc aicnânosnoc me átse )SDA( sametsiS ed otnemivlovneseD e esilánA me ocigóloncet osruc O osruc o erboS\n"
     ]
    }
   ],
   "source": [
    "print(texto[::-1])"
   ]
  },
  {
   "cell_type": "code",
   "execution_count": 136,
   "metadata": {},
   "outputs": [
    {
     "name": "stdout",
     "output_type": "stream",
     "text": [
      "212\n",
      "106.0\n",
      "Missão\n"
     ]
    }
   ],
   "source": [
    "#contar palavras do texto\n",
    "texto_array = texto.split()\n",
    "\n",
    "\n",
    "print(len(texto_array))\n",
    "\n",
    "print(len(texto_array)/2)\n",
    "\n",
    "print(texto_array[106])\n"
   ]
  },
  {
   "cell_type": "code",
   "execution_count": null,
   "metadata": {},
   "outputs": [],
   "source": [
    "# Como usar no Python\n",
    "\n",
    "# while (    )\n",
    "# for   (    )\n",
    "\n",
    "# Estrutura de Repetição\n",
    "\n",
    "# Enviar: lucyano.martins@faculdadefacit.edu.br\n",
    "\n",
    "# Vale pontos e não quero 'Control + C' e nem 'Control + V'\n",
    "\n",
    "# Pesquisar os parâmetros e exemplos."
   ]
  }
 ],
 "metadata": {
  "kernelspec": {
   "display_name": "Python 3",
   "language": "python",
   "name": "python3"
  },
  "language_info": {
   "codemirror_mode": {
    "name": "ipython",
    "version": 3
   },
   "file_extension": ".py",
   "mimetype": "text/x-python",
   "name": "python",
   "nbconvert_exporter": "python",
   "pygments_lexer": "ipython3",
   "version": "3.8.5"
  }
 },
 "nbformat": 4,
 "nbformat_minor": 4
}
